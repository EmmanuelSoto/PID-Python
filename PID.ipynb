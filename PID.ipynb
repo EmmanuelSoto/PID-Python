{
 "cells": [
  {
   "cell_type": "markdown",
   "id": "1ef6fb00",
   "metadata": {},
   "source": [
    "# Sistemas de control con Python"
   ]
  },
  {
   "cell_type": "code",
   "execution_count": 1,
   "id": "02da19bc",
   "metadata": {},
   "outputs": [],
   "source": [
    "from scipy.signal import lti\n",
    "#scipy.signal permite trabajar sistemas lineales en tiempo continuo (LTI)\n",
    "import matplotlib.pyplot as plt\n",
    "# matplotlib.pyplot permite realizar gráficas\n",
    "import sympy as sy\n",
    "# sympy permite trabajar con matemáticas simbólicas\n",
    "from sympy import Symbol\n",
    "import numpy as np\n",
    "from ipywidgets import interact, fixed"
   ]
  },
  {
   "cell_type": "code",
   "execution_count": 2,
   "id": "51203a4a",
   "metadata": {},
   "outputs": [],
   "source": [
    "def pretysys(sys):\n",
    "    s = sy.symbols('s')\n",
    "    num = sy.Poly(sys.num, s)\n",
    "    den = sy.Poly(sys.den, s)\n",
    "    return num/den"
   ]
  },
  {
   "cell_type": "code",
   "execution_count": 3,
   "id": "9ec644cf",
   "metadata": {},
   "outputs": [],
   "source": [
    "def serie(sys1, sys2):\n",
    "    num = np.polymul(sys1.num, sys2.num)\n",
    "    den = np.polymul(sys1.den, sys2.den)\n",
    "    return lti(num,den)"
   ]
  },
  {
   "cell_type": "code",
   "execution_count": 4,
   "id": "af042446",
   "metadata": {},
   "outputs": [],
   "source": [
    "a = lti([2],[1,2])\n",
    "b = lti([1], [1,2,3])"
   ]
  },
  {
   "cell_type": "code",
   "execution_count": 5,
   "id": "f9ca3609",
   "metadata": {},
   "outputs": [
    {
     "data": {
      "text/latex": [
       "$\\displaystyle \\frac{2.0}{1.0 s + 2.0}$"
      ],
      "text/plain": [
       "2.0/(1.0*s + 2.0)"
      ]
     },
     "execution_count": 5,
     "metadata": {},
     "output_type": "execute_result"
    }
   ],
   "source": [
    "pretysys(a)"
   ]
  },
  {
   "cell_type": "code",
   "execution_count": 6,
   "id": "bc321b5a",
   "metadata": {},
   "outputs": [
    {
     "data": {
      "text/latex": [
       "$\\displaystyle \\frac{1.0}{1.0 s^{2} + 2.0 s + 3.0}$"
      ],
      "text/plain": [
       "1.0/(1.0*s**2 + 2.0*s + 3.0)"
      ]
     },
     "execution_count": 6,
     "metadata": {},
     "output_type": "execute_result"
    }
   ],
   "source": [
    "pretysys(b)"
   ]
  },
  {
   "cell_type": "code",
   "execution_count": 7,
   "id": "5b5af5b3",
   "metadata": {},
   "outputs": [
    {
     "data": {
      "text/latex": [
       "$\\displaystyle \\frac{2.0}{1.0 s^{3} + 4.0 s^{2} + 7.0 s + 6.0}$"
      ],
      "text/plain": [
       "2.0/(1.0*s**3 + 4.0*s**2 + 7.0*s + 6.0)"
      ]
     },
     "execution_count": 7,
     "metadata": {},
     "output_type": "execute_result"
    }
   ],
   "source": [
    "pretysys(serie(a,b))"
   ]
  },
  {
   "cell_type": "markdown",
   "id": "8cd9d51e",
   "metadata": {},
   "source": [
    "funcion_t_open_loop = $G(s)$"
   ]
  },
  {
   "cell_type": "markdown",
   "id": "2705b580",
   "metadata": {},
   "source": [
    "fun_t_feedback = $H(s)$"
   ]
  },
  {
   "cell_type": "markdown",
   "id": "ffc32611",
   "metadata": {},
   "source": [
    "$$GH(s) = \\frac{G(s)}{1+G(s)\\cdot H(s)} $$    "
   ]
  },
  {
   "cell_type": "code",
   "execution_count": 8,
   "id": "39a8c839",
   "metadata": {},
   "outputs": [],
   "source": [
    "def feedback(sys1, sys2):\n",
    "    num=np.polymul(sys1.num, sys2.den)\n",
    "    a = np.polymul(sys1.num, sys2.num)\n",
    "    b = np.polymul(sys1.den, sys2.den)\n",
    "    den = np.polyadd(a,b)\n",
    "    return lti(num,den)"
   ]
  },
  {
   "cell_type": "code",
   "execution_count": 9,
   "id": "f6248e4e",
   "metadata": {},
   "outputs": [
    {
     "data": {
      "text/latex": [
       "$\\displaystyle \\frac{2.0 s^{2} + 4.0 s + 6.0}{1.0 s^{3} + 4.0 s^{2} + 7.0 s + 8.0}$"
      ],
      "text/plain": [
       "(2.0*s**2 + 4.0*s + 6.0)/(1.0*s**3 + 4.0*s**2 + 7.0*s + 8.0)"
      ]
     },
     "execution_count": 9,
     "metadata": {},
     "output_type": "execute_result"
    }
   ],
   "source": [
    "pretysys(feedback(a,b))"
   ]
  },
  {
   "cell_type": "markdown",
   "id": "2fa04f16",
   "metadata": {},
   "source": [
    "# PID interactivo"
   ]
  },
  {
   "cell_type": "code",
   "execution_count": 10,
   "id": "a33a89f5",
   "metadata": {},
   "outputs": [],
   "source": [
    "def param(t,y):\n",
    "  n=0 #indice del tiempo de levantamiento\n",
    "  vf=y[-1]#valor final de la respuesta\n",
    "  tp=t[np.argmax(y)] # tiempo pico\n",
    "  Ma=(max(y)-y[-1])/y[-1]#porcentaje de maximo sobreimpulso\n",
    "\n",
    "  while y[n]<vf:\n",
    "    n+=1\n",
    "  \n",
    "  tl=t[n]#tiempo de levantamiento\n",
    "\n",
    "  e=abs(y-vf) #error absoluto\n",
    "\n",
    "  ei=e[::-1]#error en orden invertido\n",
    "  \n",
    "  m=1 #indice del tiempo de establecimiento\n",
    "\n",
    "  while ei[m]<2*vf/100:\n",
    "    m+=1\n",
    "  \n",
    "  ts=t[-m]# tiempo de establecimiento al 2%\n",
    "\n",
    "  return print(f'%Amax={Ma*100}\\nVf={vf}\\ntp={tp}\\ntl={tl}\\nts={ts}')"
   ]
  },
  {
   "cell_type": "code",
   "execution_count": 11,
   "id": "82a8fd96",
   "metadata": {},
   "outputs": [],
   "source": [
    "def pid_tuner(sys,ret=0.0,kp=10,ki=10,kd=10,delta_P=0.01,delta_I=0.01,delta_D=0.01):\n",
    "\n",
    "  @interact(kp=(0.001,kp,delta_P),ki=(0.001,ki,delta_I),kd=(0.001,kd,delta_D),param_orig=['Yes','No'],param_cont=['Yes','No'])\n",
    "  def CONTROLAR(kp,ki,kd,param_orig,param_cont):\n",
    "    ts,ys=sys.step()\n",
    "    plt.plot(ts,ys,label='Sistema sin controlar')\n",
    "    plt.legend(loc='best')\n",
    "    cont=lti([kd,kp,ki],[1,0])\n",
    "    ser=serie(cont,sys)\n",
    "    fed=feedback(ser,lti([1],[1]))\n",
    "    tc,yc=fed.step(T=ts)\n",
    "    plt.plot(tc,yc,label='Sistema controlado')\n",
    "    plt.legend(loc='best')\n",
    "    plt.title('PID')\n",
    "    plt.xlabel('T(s)')\n",
    "    plt.ylabel('Amplitud')\n",
    "    plt.grid()\n",
    "    plt.show\n",
    "    if param_orig==\"Yes\":\n",
    "      print('\\n Parametros del sistema origianal')\n",
    "      param(ts,ys)\n",
    "    \n",
    "    if param_cont=='Yes':\n",
    "      print('\\n Parametros del sistema controlado')\n",
    "      param(tc,yc)"
   ]
  },
  {
   "cell_type": "code",
   "execution_count": 12,
   "id": "280899f6",
   "metadata": {},
   "outputs": [],
   "source": [
    "sys=lti([2],[1,2,3])"
   ]
  },
  {
   "cell_type": "code",
   "execution_count": 13,
   "id": "cb231483",
   "metadata": {},
   "outputs": [
    {
     "data": {
      "application/vnd.jupyter.widget-view+json": {
       "model_id": "e8202a7259df4e8996d705498a9c3f5a",
       "version_major": 2,
       "version_minor": 0
      },
      "text/plain": [
       "interactive(children=(FloatSlider(value=4.9910000000000005, description='kp', max=10.0, min=0.001, step=0.01),…"
      ]
     },
     "metadata": {},
     "output_type": "display_data"
    }
   ],
   "source": [
    "pid_tuner(sys)"
   ]
  },
  {
   "cell_type": "code",
   "execution_count": null,
   "id": "d50b7e0d",
   "metadata": {},
   "outputs": [],
   "source": []
  }
 ],
 "metadata": {
  "kernelspec": {
   "display_name": "Python 3 (ipykernel)",
   "language": "python",
   "name": "python3"
  },
  "language_info": {
   "codemirror_mode": {
    "name": "ipython",
    "version": 3
   },
   "file_extension": ".py",
   "mimetype": "text/x-python",
   "name": "python",
   "nbconvert_exporter": "python",
   "pygments_lexer": "ipython3",
   "version": "3.9.7"
  }
 },
 "nbformat": 4,
 "nbformat_minor": 5
}
